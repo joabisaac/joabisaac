{
 "cells": [
  {
   "cell_type": "code",
   "execution_count": null,
   "id": "5360fa80",
   "metadata": {},
   "outputs": [
    {
     "name": "stdout",
     "output_type": "stream",
     "text": [
      "Welcome to the Stock Portfolio Analysis Tool! This is designed to allow you to enter your portfolio and analyze the stocks you own.\n",
      "Please enter the tickers symbol of the stocks you want to analyze and own in your portfolio:\n",
      "You can enter multiple tickers separated by commas (e.g., AAPL, MSFT, GOOGL):\n",
      "No valid tickers entered. Exiting the program.\n",
      "Please enter the start date for which you want to analyze the stock data (YYYY-MM-DD):\n",
      "Do you want to analyze the stock up to today? (yes/no)\n",
      "Please enter the end date (YYYY-MM-DD):\n"
     ]
    },
    {
     "ename": "ValueError",
     "evalue": "time data '' does not match format '%Y-%m-%d'",
     "output_type": "error",
     "traceback": [
      "\u001b[1;31m---------------------------------------------------------------------------\u001b[0m",
      "\u001b[1;31mValueError\u001b[0m                                Traceback (most recent call last)",
      "Cell \u001b[1;32mIn[1], line 23\u001b[0m\n\u001b[0;32m     21\u001b[0m     \u001b[38;5;28mprint\u001b[39m(\u001b[38;5;124m'\u001b[39m\u001b[38;5;124mPlease enter the end date (YYYY-MM-DD):\u001b[39m\u001b[38;5;124m'\u001b[39m)\n\u001b[0;32m     22\u001b[0m     end_date \u001b[38;5;241m=\u001b[39m \u001b[38;5;28minput\u001b[39m()\u001b[38;5;241m.\u001b[39mstrip()\n\u001b[1;32m---> 23\u001b[0m     end_date \u001b[38;5;241m=\u001b[39m \u001b[43mdatetime\u001b[49m\u001b[38;5;241;43m.\u001b[39;49m\u001b[43mstrptime\u001b[49m\u001b[43m(\u001b[49m\u001b[43mend_date\u001b[49m\u001b[43m,\u001b[49m\u001b[43m \u001b[49m\u001b[38;5;124;43m'\u001b[39;49m\u001b[38;5;124;43m%\u001b[39;49m\u001b[38;5;124;43mY-\u001b[39;49m\u001b[38;5;124;43m%\u001b[39;49m\u001b[38;5;124;43mm-\u001b[39;49m\u001b[38;5;132;43;01m%d\u001b[39;49;00m\u001b[38;5;124;43m'\u001b[39;49m\u001b[43m)\u001b[49m\n\u001b[0;32m     25\u001b[0m data\u001b[38;5;241m=\u001b[39myf\u001b[38;5;241m.\u001b[39mdownload(tickers,start\u001b[38;5;241m=\u001b[39mstart_date, end\u001b[38;5;241m=\u001b[39mend_date)[\u001b[38;5;124m'\u001b[39m\u001b[38;5;124mClose\u001b[39m\u001b[38;5;124m'\u001b[39m]\n\u001b[0;32m     27\u001b[0m \u001b[38;5;28mprint\u001b[39m(\u001b[38;5;124m'\u001b[39m\u001b[38;5;124mHere is the data for the stock you requested:\u001b[39m\u001b[38;5;124m'\u001b[39m)\n",
      "File \u001b[1;32mc:\\ProgramData\\Anaconda3\\Lib\\_strptime.py:554\u001b[0m, in \u001b[0;36m_strptime_datetime\u001b[1;34m(cls, data_string, format)\u001b[0m\n\u001b[0;32m    551\u001b[0m \u001b[38;5;28;01mdef\u001b[39;00m\u001b[38;5;250m \u001b[39m\u001b[38;5;21m_strptime_datetime\u001b[39m(\u001b[38;5;28mcls\u001b[39m, data_string, \u001b[38;5;28mformat\u001b[39m\u001b[38;5;241m=\u001b[39m\u001b[38;5;124m\"\u001b[39m\u001b[38;5;132;01m%a\u001b[39;00m\u001b[38;5;124m \u001b[39m\u001b[38;5;124m%\u001b[39m\u001b[38;5;124mb \u001b[39m\u001b[38;5;132;01m%d\u001b[39;00m\u001b[38;5;124m \u001b[39m\u001b[38;5;124m%\u001b[39m\u001b[38;5;124mH:\u001b[39m\u001b[38;5;124m%\u001b[39m\u001b[38;5;124mM:\u001b[39m\u001b[38;5;124m%\u001b[39m\u001b[38;5;124mS \u001b[39m\u001b[38;5;124m%\u001b[39m\u001b[38;5;124mY\u001b[39m\u001b[38;5;124m\"\u001b[39m):\n\u001b[0;32m    552\u001b[0m \u001b[38;5;250m    \u001b[39m\u001b[38;5;124;03m\"\"\"Return a class cls instance based on the input string and the\u001b[39;00m\n\u001b[0;32m    553\u001b[0m \u001b[38;5;124;03m    format string.\"\"\"\u001b[39;00m\n\u001b[1;32m--> 554\u001b[0m     tt, fraction, gmtoff_fraction \u001b[38;5;241m=\u001b[39m \u001b[43m_strptime\u001b[49m\u001b[43m(\u001b[49m\u001b[43mdata_string\u001b[49m\u001b[43m,\u001b[49m\u001b[43m \u001b[49m\u001b[38;5;28;43mformat\u001b[39;49m\u001b[43m)\u001b[49m\n\u001b[0;32m    555\u001b[0m     tzname, gmtoff \u001b[38;5;241m=\u001b[39m tt[\u001b[38;5;241m-\u001b[39m\u001b[38;5;241m2\u001b[39m:]\n\u001b[0;32m    556\u001b[0m     args \u001b[38;5;241m=\u001b[39m tt[:\u001b[38;5;241m6\u001b[39m] \u001b[38;5;241m+\u001b[39m (fraction,)\n",
      "File \u001b[1;32mc:\\ProgramData\\Anaconda3\\Lib\\_strptime.py:333\u001b[0m, in \u001b[0;36m_strptime\u001b[1;34m(data_string, format)\u001b[0m\n\u001b[0;32m    331\u001b[0m found \u001b[38;5;241m=\u001b[39m format_regex\u001b[38;5;241m.\u001b[39mmatch(data_string)\n\u001b[0;32m    332\u001b[0m \u001b[38;5;28;01mif\u001b[39;00m \u001b[38;5;129;01mnot\u001b[39;00m found:\n\u001b[1;32m--> 333\u001b[0m     \u001b[38;5;28;01mraise\u001b[39;00m \u001b[38;5;167;01mValueError\u001b[39;00m(\u001b[38;5;124m\"\u001b[39m\u001b[38;5;124mtime data \u001b[39m\u001b[38;5;132;01m%r\u001b[39;00m\u001b[38;5;124m does not match format \u001b[39m\u001b[38;5;132;01m%r\u001b[39;00m\u001b[38;5;124m\"\u001b[39m \u001b[38;5;241m%\u001b[39m\n\u001b[0;32m    334\u001b[0m                      (data_string, \u001b[38;5;28mformat\u001b[39m))\n\u001b[0;32m    335\u001b[0m \u001b[38;5;28;01mif\u001b[39;00m \u001b[38;5;28mlen\u001b[39m(data_string) \u001b[38;5;241m!=\u001b[39m found\u001b[38;5;241m.\u001b[39mend():\n\u001b[0;32m    336\u001b[0m     \u001b[38;5;28;01mraise\u001b[39;00m \u001b[38;5;167;01mValueError\u001b[39;00m(\u001b[38;5;124m\"\u001b[39m\u001b[38;5;124munconverted data remains: \u001b[39m\u001b[38;5;132;01m%s\u001b[39;00m\u001b[38;5;124m\"\u001b[39m \u001b[38;5;241m%\u001b[39m\n\u001b[0;32m    337\u001b[0m                       data_string[found\u001b[38;5;241m.\u001b[39mend():])\n",
      "\u001b[1;31mValueError\u001b[0m: time data '' does not match format '%Y-%m-%d'"
     ]
    },
    {
     "ename": "",
     "evalue": "",
     "output_type": "error",
     "traceback": [
      "\u001b[1;31mThe Kernel crashed while executing code in the current cell or a previous cell. \n",
      "\u001b[1;31mPlease review the code in the cell(s) to identify a possible cause of the failure. \n",
      "\u001b[1;31mClick <a href='https://aka.ms/vscodeJupyterKernelCrash'>here</a> for more info. \n",
      "\u001b[1;31mView Jupyter <a href='command:jupyter.viewOutput'>log</a> for further details."
     ]
    }
   ],
   "source": [
    "import yfinance as yf\n",
    "import pandas as pd\n",
    "from datetime import datetime\n",
    "import numpy as np\n",
    "import matplotlib.pyplot as plot\n",
    "\n",
    "print('Welcome to the Stock Portfolio Analysis Tool! This is designed to allow you to enter your portfolio and analyze the stocks you own.')\n",
    "print('Please enter the tickers symbol of the stocks you want to analyze and own in your portfolio:')\n",
    "print('You can enter multiple tickers separated by commas (e.g., AAPL, MSFT, GOOGL):')\n",
    "tickers = input().strip().upper().split(',')\n",
    "tickers = [ticker.strip() for ticker in tickers if ticker.strip()]\n",
    "if not tickers:\n",
    "    print('No valid tickers entered. Exiting the program.')\n",
    "    exit()\n",
    "print('Please enter the start date for which you want to analyze the stock data (YYYY-MM-DD):')\n",
    "start_date = input().strip()\n",
    "print('Do you want to analyze the stock up to today? (yes/no)')\n",
    "if input().strip().lower() == 'yes':\n",
    "    end_date = datetime.now()\n",
    "else:\n",
    "    print('Please enter the end date (YYYY-MM-DD):')\n",
    "    end_date = input().strip()\n",
    "    end_date = datetime.strptime(end_date, '%Y-%m-%d')\n",
    "\n",
    "data=yf.download(tickers,start=start_date, end=end_date)['Close']\n",
    "\n",
    "print('Here is the data for the stock you requested:')\n",
    "print('Also a visualization of the stock data will be generated here for your viewing.')\n",
    "print(data.head())\n",
    "#Plotting the stock data\n",
    "plot.figure(figsize=(20,10))\n",
    "data.plot(title='Stock Prices Over Time', fontsize=12)\n",
    "plot.xlabel('Date')\n",
    "plot.ylabel('Price (USD)')\n",
    "plot.legend()\n",
    "plot.grid()\n",
    "plot.show()\n",
    "\n",
    "print('We can now calculate how much your portfolio is worth today.')\n",
    "print('Please enter the number of shares you own for each stock, separated by commas (e.g., 10, 5, 2):')\n",
    "\n",
    "shares_input = input().strip().split(',')\n",
    "shares = [int(share.strip()) for share in shares_input if share.strip().isdigit()]\n",
    "if len(shares) != len(tickers):\n",
    "    print('The number of shares does not match the number of tickers. Exiting the program.')\n",
    "    exit()\n",
    "else:\n",
    "    print('Calculating the current value of your portfolio...')\n",
    "    current_prices = data.iloc[-1]\n",
    "    portfolio_value = sum(current_prices[ticker] * shares[i] for i, ticker in enumerate(tickers))\n",
    "    print(f'The current value of your portfolio is: ${portfolio_value:.2f}')\n",
    "\n",
    "    # Calculate the initial investment value\n",
    "    initial_prices = data.iloc[0]\n",
    "    initial_investment = sum(initial_prices[ticker] * shares[i] for i, ticker in enumerate(tickers))\n",
    "    print(f'The initial investment value was: ${initial_investment:.2f}')\n",
    "\n",
    "    # Calculate the return on investment (ROI)\n",
    "    roi = (portfolio_value - initial_investment) / initial_investment * 100\n",
    "    print(f'The return on investment (ROI) is: {roi:.2f}%')\n",
    "\n",
    "    #Now based on trading strategies, we can assess the performance of the portfolio and whether we should hold or sell the stocks.\n",
    "    print('Analyzing the performance of your portfolio based on trading strategies...')\n",
    "    #Based on calculating the moving average for the stocks\n"
   ]
  }
 ],
 "metadata": {
  "kernelspec": {
   "display_name": "base",
   "language": "python",
   "name": "python3"
  },
  "language_info": {
   "codemirror_mode": {
    "name": "ipython",
    "version": 3
   },
   "file_extension": ".py",
   "mimetype": "text/x-python",
   "name": "python",
   "nbconvert_exporter": "python",
   "pygments_lexer": "ipython3",
   "version": "3.12.3"
  }
 },
 "nbformat": 4,
 "nbformat_minor": 5
}
